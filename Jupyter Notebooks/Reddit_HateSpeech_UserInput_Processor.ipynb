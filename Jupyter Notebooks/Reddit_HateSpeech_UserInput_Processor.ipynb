{
 "cells": [
  {
   "cell_type": "markdown",
   "metadata": {
    "colab_type": "text",
    "id": "view-in-github"
   },
   "source": [
    "<a href=\"https://colab.research.google.com/github/radonys/Reddit-HateSpeech-Application/blob/master/Reddit_HateSpeech_UserInput_Processor.ipynb\" target=\"_parent\"><img src=\"https://colab.research.google.com/assets/colab-badge.svg\" alt=\"Open In Colab\"/></a>"
   ]
  },
  {
   "cell_type": "markdown",
   "metadata": {
    "colab_type": "text",
    "id": "pkE9kdo0-NZO"
   },
   "source": [
    "# Reddit Hate-Speech User Input Collection"
   ]
  },
  {
   "cell_type": "markdown",
   "metadata": {
    "colab_type": "text",
    "id": "GictZ36H-U80"
   },
   "source": [
    "## Libraries"
   ]
  },
  {
   "cell_type": "markdown",
   "metadata": {
    "colab_type": "text",
    "id": "m3f_oG55-Xp4"
   },
   "source": [
    "### Install"
   ]
  },
  {
   "cell_type": "code",
   "execution_count": 0,
   "metadata": {
    "colab": {},
    "colab_type": "code",
    "id": "MC9hS04g6SzN"
   },
   "outputs": [],
   "source": [
    "#!pip install praw"
   ]
  },
  {
   "cell_type": "markdown",
   "metadata": {
    "colab_type": "text",
    "id": "hXo4vAJg-c21"
   },
   "source": [
    "### Import"
   ]
  },
  {
   "cell_type": "code",
   "execution_count": 17,
   "metadata": {
    "colab": {
     "base_uri": "https://localhost:8080/",
     "height": 51
    },
    "colab_type": "code",
    "id": "Up6WYijX-b7s",
    "outputId": "8eb8e0ae-bbce-46e0-b4d1-f3ec7aeb416a"
   },
   "outputs": [
    {
     "name": "stdout",
     "output_type": "stream",
     "text": [
      "[nltk_data] Downloading package stopwords to /root/nltk_data...\n",
      "[nltk_data]   Package stopwords is already up-to-date!\n"
     ]
    }
   ],
   "source": [
    "import sklearn\n",
    "import pickle\n",
    "import praw\n",
    "import re\n",
    "from bs4 import BeautifulSoup\n",
    "import nltk\n",
    "import numpy as np\n",
    "nltk.download('stopwords')\n",
    "from nltk.corpus import stopwords"
   ]
  },
  {
   "cell_type": "markdown",
   "metadata": {
    "colab_type": "text",
    "id": "LF4q1EGm-nTJ"
   },
   "source": [
    "## Variable Declaration"
   ]
  },
  {
   "cell_type": "code",
   "execution_count": 0,
   "metadata": {
    "colab": {},
    "colab_type": "code",
    "id": "j1xzInPf-qCl"
   },
   "outputs": [],
   "source": [
    "reddit = praw.Reddit(client_id='#', client_secret='#', user_agent='#', username='#', password='#')\n",
    "model = pickle.load(open('Models/finalized_model.sav', 'rb'))\n",
    "\n",
    "REPLACE_BY_SPACE_RE = re.compile('[/(){}\\[\\]\\|@,;]')\n",
    "BAD_SYMBOLS_RE = re.compile('[^0-9a-z #+_]')\n",
    "STOPWORDS = set(stopwords.words('english'))"
   ]
  },
  {
   "cell_type": "markdown",
   "metadata": {
    "colab_type": "text",
    "id": "knc-Y7NDA4DS"
   },
   "source": [
    "## Utility Functions"
   ]
  },
  {
   "cell_type": "code",
   "execution_count": 0,
   "metadata": {
    "colab": {},
    "colab_type": "code",
    "id": "wcaON-86A7B1"
   },
   "outputs": [],
   "source": [
    "def clean_text(text):\n",
    "   \n",
    "    text = BeautifulSoup(text, \"lxml\").text\n",
    "    text = text.lower()\n",
    "    text = REPLACE_BY_SPACE_RE.sub(' ', text)\n",
    "    text = BAD_SYMBOLS_RE.sub('', text)\n",
    "    text = ' '.join(word for word in text.split() if word not in STOPWORDS)\n",
    "    return text"
   ]
  },
  {
   "cell_type": "code",
   "execution_count": 0,
   "metadata": {
    "colab": {},
    "colab_type": "code",
    "id": "7C4Shy2PCUbU"
   },
   "outputs": [],
   "source": [
    "def comment_hate_check(comments, loaded_model):\n",
    "\n",
    "  hate = np.zeros(len(comments))\n",
    "\n",
    "  for idx in range(0, len(comments)):\n",
    "\n",
    "    comment = clean_text(comments[idx])\n",
    "    hate[idx] = loaded_model.predict([comment])\n",
    "\n",
    "  return hate"
   ]
  },
  {
   "cell_type": "markdown",
   "metadata": {
    "colab_type": "text",
    "id": "yq7gUF14_Zwn"
   },
   "source": [
    "## Input URL Processing"
   ]
  },
  {
   "cell_type": "code",
   "execution_count": 0,
   "metadata": {
    "colab": {},
    "colab_type": "code",
    "id": "0msTE5Zd_fbN"
   },
   "outputs": [],
   "source": [
    "def url_process(url,loaded_model):\n",
    "\n",
    "  submission = reddit.submission(url=url)\n",
    "\n",
    "  data = {}\n",
    "\n",
    "  data['title'] = submission.title\n",
    "  data['url'] = submission.url\n",
    "  data['id'] = submission.id\n",
    "  data['comm_num'] = submission.num_comments\n",
    "  data['created'] = submission.created\n",
    "  data['body'] = submission.selftext\n",
    "\n",
    "  submission.comments.replace_more(limit=None)\n",
    "  comments = []\n",
    "\n",
    "  counter = 0\n",
    "\n",
    "  for top_level_comment in submission.comments:\n",
    "    \n",
    "    comments.append(top_level_comment.body)\n",
    "    counter += 1\n",
    "\n",
    "    if counter == 5:\n",
    "      break\n",
    "\n",
    "  data['hate_user_input'] = 1\n",
    "\n",
    "  data[\"comment\"] = comments\n",
    "\n",
    "  data['title'] = clean_text(data['title'])\n",
    "  data['body'] = clean_text(data['body'])\n",
    "\n",
    "  data['hate_body'] = loaded_model.predict([data['body']])\n",
    "  data['hate_title'] = loaded_model.predict([data['title']])\n",
    "  data['hate_comment_onehot'] = comment_hate_check(comments, loaded_model)\n",
    "\n",
    "  return data"
   ]
  },
  {
   "cell_type": "code",
   "execution_count": 45,
   "metadata": {
    "colab": {
     "base_uri": "https://localhost:8080/",
     "height": 292
    },
    "colab_type": "code",
    "id": "Oi9bmsKAC4-8",
    "outputId": "747ea80f-c1d8-4b9f-922f-24a85b915773"
   },
   "outputs": [
    {
     "data": {
      "text/plain": [
       "{'body': 'saturday folks lets kick back cup coffee share cartoonsfeel free share political cartoons thread besides usual civility policy three rules follow1 every toplevel comment must contain political cartoon means textonly toplevel comments2 must _original cartoon_ means photographs edited cartoons memes image macros oc allowed animation 3 toplevel comment maximum 3 cartoons thats enjoy weekend',\n",
       " 'comm_num': 231,\n",
       " 'comment': ['[Matt Davies, Newsday](https://projects.newsday.com/cartoons/opinion/matt-davies-political-cartoons/)\\n\\n* [Ignoring the Real Hazard](https://i.imgur.com/Z7AqCtp.png)',\n",
       "  'Bruce MacKinnon [Imgur](https://i.imgur.com/hVahSfI.jpg)',\n",
       "  'Nick Anderson: [Armed Protesters](https://pbs.twimg.com/media/EYCuX9_XsAAniAG.jpg)\\n\\nNick Anderson: [Preparation](https://pbs.twimg.com/media/EYBzNWyXgAE5oqC.jpg)\\n\\nMichael de Adder: [How Facebook Eliminates Fake News](https://pbs.twimg.com/media/EX-wwHjWkAEqw_x.jpg)',\n",
       "  'Clay Jones: \\n\\n[Fox v. Fauci](https://claytoonz.files.wordpress.com/2020/05/cjones05202020.jpg)\\n\\n[Acceptable Answers](https://claytoonz.files.wordpress.com/2020/05/cjones05182020.jpg)\\n\\n[Biggest Crime in American History](https://claytoonz.files.wordpress.com/2020/05/cjones05172020.jpg)',\n",
       "  \"[Pat Bagley, The Salt Lake Tribune, for tomorrow's \\\\(Sunday's\\\\) print edition](https://www.sltrib.com/opinion/bagley/2020/05/15/bagley-cartoon-usps)\\n\\n* [USPS Courier Creed](https://i.imgur.com/4QXaf2B.jpg)\"],\n",
       " 'created': 1589671791.0,\n",
       " 'hate_body': array([0.]),\n",
       " 'hate_comment_onehot': array([0., 0., 0., 0., 0.]),\n",
       " 'hate_title': array([0.]),\n",
       " 'hate_user_input': 1,\n",
       " 'id': 'gkwi25',\n",
       " 'title': 'saturday morning political cartoon thread',\n",
       " 'url': 'https://www.reddit.com/r/politics/comments/gkwi25/saturday_morning_political_cartoon_thread/'}"
      ]
     },
     "execution_count": 45,
     "metadata": {
      "tags": []
     },
     "output_type": "execute_result"
    }
   ],
   "source": [
    "url_process('https://www.reddit.com/r/politics/comments/gkwi25/saturday_morning_political_cartoon_thread/', model)"
   ]
  }
 ],
 "metadata": {
  "colab": {
   "authorship_tag": "ABX9TyORc7aUmI24icRsR0QGpRLW",
   "collapsed_sections": [
    "m3f_oG55-Xp4",
    "hXo4vAJg-c21",
    "LF4q1EGm-nTJ",
    "knc-Y7NDA4DS"
   ],
   "include_colab_link": true,
   "mount_file_id": "1LP2KEUAiEt6P2sU3vba0-bpBQUzsXl2F",
   "name": "Reddit-HateSpeech-UserInput-Processor.ipynb",
   "provenance": [],
   "toc_visible": true
  },
  "kernelspec": {
   "display_name": "Python 3",
   "language": "python",
   "name": "python3"
  },
  "language_info": {
   "codemirror_mode": {
    "name": "ipython",
    "version": 3
   },
   "file_extension": ".py",
   "mimetype": "text/x-python",
   "name": "python",
   "nbconvert_exporter": "python",
   "pygments_lexer": "ipython3",
   "version": "3.7.4"
  }
 },
 "nbformat": 4,
 "nbformat_minor": 1
}
